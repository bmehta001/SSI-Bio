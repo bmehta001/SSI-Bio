{
 "cells": [
  {
   "cell_type": "code",
   "execution_count": 23,
   "metadata": {},
   "outputs": [],
   "source": [
    "import itertools\n",
    "import collections\n",
    "\n",
    "class NumberOfWells:\n",
    "    allBases = {\"A\", \"T\", \"C\", \"G\"}\n",
    "    basesMatch = {\"A\": \"T\", \"C\": \"G\", \"G\": \"C\", \"T\": \"A\"}\n",
    "    letterToInt = {\"A\": \"1\", \"C\": \"2\", \"G\": \"3\", \"T\": \"4\"}\n",
    "#lengthOfSequence - 4 = \"ATCG\"\n",
    "#differing Length - if true, will include all sequences >1 and <4, i.e. all sequences of 2,3 as well\n",
    "#minMatch - how many bases have to be pairing in order for it to be \n",
    "#consecutive, whether or not they have to be considered consecutive    \n",
    "    def __init__(self, lengthOfSequences = 4, differingLength = False, minMatch = 4, consecutive = True):\n",
    "        assert(minMatch <= lengthOfSequences)\n",
    "        assert(minMatch > 1)\n",
    "        self.lengthOfSequences = lengthOfSequences\n",
    "        self.differingLength = differingLength\n",
    "        self.minMatch = minMatch\n",
    "        self.consecutive = consecutive\n",
    "        self.allPossibleSequences = []\n",
    "        self.sumIfAllMatching = ((10**(self.lengthOfSequences) - 1) * (5))//9\n",
    "        if self.differingLength:\n",
    "            for x in range(2, self.lengthOfSequences + 1):\n",
    "                self.allPossibleSequences+=list(itertools.product(\"1234\", repeat = x))\n",
    "        else:\n",
    "            self.allPossibleSequences = list(itertools.product(\"1234\", repeat = self.lengthOfSequences))\n",
    "        print(len(self.allPossibleSequences))\n",
    "        self.allPossibleSequences = list(map(lambda x: int(\"\".join(x)), self.allPossibleSequences))\n",
    "        self.findAllStrandsMatch()\n",
    "        \n",
    "    #will convert 3' to 5' to 5' to 3' and vice versa   \n",
    "    def reverseStrand(self, strand):\n",
    "        reverse = 0\n",
    "        while(strand > 0):\n",
    "            remainder = strand %10\n",
    "            reverse = (reverse *10) + remainder\n",
    "            strand = strand//10\n",
    "        return reverse\n",
    "    \n",
    "    #Takes 3' to 5' strand and returns 3' to 5' strand\n",
    "    def findComplement(self, strand1):\n",
    "        return self.reverseStrand(self.sumIfAllMatching - strand1)\n",
    "    \n",
    "    #Takes 3' to 5' strand and 3' to 5' strand \n",
    "    def ifTwoStrandsMatch(self, strand1, strand2):\n",
    "        maxStagger = self.lengthOfSequences - self.minMatch + 1 #Used to help with the offset\n",
    "        sequenceToSearchFor = \"5\"*self.minMatch\n",
    "        for i in range(maxStagger):\n",
    "            original1 = self.reverseStrand(strand1) + int(strand2)*(10**i) #5 to 3 and 3 to 5\n",
    "            primer1 = self.reverseStrand(self.findComplement(strand1)) + int(strand2)*(10**i) #5 to 3 and 3 to 5\n",
    "            original2 = int(strand1)*(10**i) + self.reverseStrand(strand2)  #3 to 5 and 5 to 3\n",
    "            primer2 = self.reverseStrand(self.findComplement(strand2)) + int(strand1)*(10**i) #5 to 3 and 3 to 5\n",
    "            allTestStrands = [str(original1), str(primer1), str(original2), str(primer2)]\n",
    "            if not self.consecutive:\n",
    "                allTestStrands = list(map(lambda x: \"\".join(sorted(x)), allTestStrands))\n",
    "            if any(list(map(lambda x: sequenceToSearchFor in x, allTestStrands))):\n",
    "                return True\n",
    "        return False\n",
    "    \n",
    "    def findAllStrandsMatch(self):\n",
    "        self.allMatchingStrands = collections.defaultdict(set)\n",
    "        for index1 in range(0, (len(self.allPossibleSequences)//2)):\n",
    "            x = self.allPossibleSequences[index1]\n",
    "            for index2 in range(index1, (len(self.allPossibleSequences)//2)):\n",
    "                y = self.allPossibleSequences[index2]\n",
    "                if self.ifTwoStrandsMatch(x,y):\n",
    "                    self.allMatchingStrands[x].add(y)\n",
    "                    self.allMatchingStrands[x].add(self.findComplement(y))\n",
    "                    self.allMatchingStrands[y].add(x)\n",
    "                    self.allMatchingStrands[y].add(self.findComplement(x))\n",
    "                    self.allMatchingStrands[self.sumIfAllMatching - x].add(y)\n",
    "                    self.allMatchingStrands[self.sumIfAllMatching - x].add(self.findComplement(y))\n",
    "                    self.allMatchingStrands[self.sumIfAllMatching - y].add(x)\n",
    "                    self.allMatchingStrands[self.sumIfAllMatching - y].add(self.findComplement(x))\n",
    "                    \n",
    "    def findAllDisjointIndependentSets(self):\n",
    "        allSets = []\n",
    "        allMatchingStrands = self.allMatchingStrands.copy()\n",
    "        while len(allMatchingStrands):\n",
    "            tempSet = set()\n",
    "            allMatching = set()\n",
    "            for strand in allMatchingStrands:\n",
    "                if strand not in allMatching:\n",
    "                    tempSet.add(strand)\n",
    "                    allMatching.update(allMatchingStrands[strand])\n",
    "            for strand in tempSet:\n",
    "                allMatchingStrands.pop(strand)\n",
    "            allSets.append(tempSet)\n",
    "        self.allSets = allSets"
   ]
  },
  {
   "cell_type": "code",
   "execution_count": 24,
   "metadata": {},
   "outputs": [
    {
     "name": "stdout",
     "output_type": "stream",
     "text": [
      "1024\n",
      "19\n"
     ]
    }
   ],
   "source": [
    "testcase = NumberOfWells(lengthOfSequences = 5,minMatch = 4, consecutive = False)\n",
    "testcase.findAllDisjointIndependentSets()\n",
    "print(len(testcase.allSets))"
   ]
  },
  {
   "cell_type": "code",
   "execution_count": 25,
   "metadata": {},
   "outputs": [
    {
     "name": "stdout",
     "output_type": "stream",
     "text": [
      "[{31232, 34311, 34312, 31241, 34313, 31242, 34321, 34322, 34323, 12311, 34331, 34332, 34333, 33311, 33312, 34341, 34342, 33321, 33322, 33331, 33332, 32311, 32312, 33341, 33342, 32321, 32322, 32331, 32332, 31311, 44111, 44112, 31312, 32341, 32342, 44121, 44122, 31321, 31322, 44131, 44132, 44133, 44134, 43111, 43112, 31331, 31332, 34411, 34412, 44141, 44142, 44143, 34413, 43121, 43122, 31341, 31342, 34421, 34422, 34423, 43131, 43132, 42111, 34432, 42112, 34431, 33411, 33412, 43141, 43142, 34441, 34442, 42121, 42122, 33421, 33422, 42131, 42132, 41111, 41112, 33431, 33432, 32411, 32412, 42141, 42142, 41121, 41122, 33441, 33442, 32421, 32422, 41131, 41132, 32431, 32432, 31411, 44211, 41141, 44214, 44213, 44212, 41142, 31412, 32441, 32442, 44221, 44222, 44223, 44224, 31421, 31422, 44231, 44232, 44233, 44234, 43211, 43212, 31431, 31432, 44241, 44242, 44243, 31441, 43221, 43222, 31442, 43231, 43232, 42211, 42212, 43241, 43242, 42221, 42222, 42231, 42232, 41211, 41212, 42241, 42242, 41221, 41222, 41231, 41232, 44311, 44312, 44313, 41241, 41242, 44321, 44322, 44323, 44331, 44332, 44333, 44334, 43311, 43312, 43313, 44341, 44342, 44343, 43321, 43322, 43323, 34111, 34112, 43331, 43332, 43333, 42311, 42312, 34121, 34122, 43341, 43342, 12112, 42321, 42322, 34131, 34132, 33111, 33112, 42331, 42332, 34141, 34142, 41311, 41312, 33121, 33122, 42341, 42342, 11111, 41321, 41322, 33131, 33132, 32111, 32112, 11122, 41331, 41332, 33141, 33142, 32121, 32122, 44411, 44412, 44413, 41342, 41341, 32131, 32132, 44421, 44422, 31111, 44423, 31112, 32141, 32142, 44431, 44432, 44433, 31121, 43411, 43412, 43413, 31122, 44441, 44442, 31131, 31132, 43421, 43422, 43423, 34211, 34212, 31141, 31142, 43431, 43432, 43433, 42411, 42412, 42413, 34221, 34222, 43441, 43442, 42421, 42422, 42423, 34231, 34232, 33211, 33212, 42431, 42432, 42433, 34241, 41411, 41412, 33221, 34242, 33222, 42441, 42442, 11212, 41421, 41422, 33231, 33232, 32211, 32212, 41431, 41432, 41433, 33241, 33242, 32221, 32222, 41441, 41442, 32231, 32232, 31211, 31212, 32241, 32242, 31221, 31222, 31231}, {42114, 42243, 14214, 23431, 11144, 31114, 42123, 24331, 22412, 24211, 21141, 42133, 44314, 13211, 44444, 11422, 44324, 34213, 24232, 12331, 23341, 11312, 22321, 43443, 13113, 32313, 14141, 12222, 33213, 11333, 12233, 42313, 13131, 11213, 43213, 41423, 24142, 23121, 44114, 42323, 11221, 13142, 32213, 14421, 12121, 34133, 44123, 22231, 42333, 22111, 43233, 41443, 42213, 13414, 42214, 14442, 43114, 22122, 12143, 32113, 11123, 22133, 24312, 24441, 21243, 11132, 43133}, {34433, 13442, 42113, 14211, 24322, 14343, 44424, 23311, 23441, 44434, 24341, 13333, 22421, 12313, 13341, 32413, 14113, 12321, 21412, 13221, 33323, 23342, 21423, 11443, 12212, 23222, 13114, 11323, 13243, 14142, 23231, 34114, 13123, 11332, 24132, 12231, 13132, 12111, 11222, 43223, 22232, 12122, 44124, 42334, 11233, 22241, 13411, 22113, 12133, 42343, 11112, 14441, 43113, 11244, 12414, 32114, 22131, 41333, 41334, 21242, 23413, 42233, 24442, 44414}, {13312, 33413, 14342, 11143, 12422, 41224, 13323, 21133, 14221, 23442, 11413, 41114, 44443, 12314, 11424, 22311, 43434, 14124, 12333, 23212, 13231, 11442, 24242, 22323, 13111, 21432, 11321, 13242, 34233, 22332, 24122, 12224, 13122, 22213, 23241, 11211, 13133, 22222, 43343, 11344, 12241, 23123, 11223, 33113, 33114, 24414, 21342, 11232, 14433, 12132, 14311, 41323, 12411, 31214, 24431, 43123, 43124, 23411, 11131, 41343}, {13441, 13313, 24321, 14213, 11142, 14222, 11412, 13332, 22424, 12442, 13212, 14111, 14241, 34214, 11433, 22441, 22313, 11311, 34223, 12211, 14132, 23221, 11322, 22331, 23232, 42434, 21442, 22212, 41413, 33223, 12232, 23111, 21323, 34123, 24141, 12114, 21332, 11224, 41434, 12123, 22234, 21214, 11231, 43234, 12131, 21222, 23142, 14312, 11113, 11243, 13422, 11121, 23412, 12413, 23423}, {23424, 21123, 13321, 31243, 22413, 14223, 24212, 21144, 12441, 41113, 12312, 33433, 11421, 22431, 13344, 33313, 12323, 13222, 24231, 11432, 14121, 24111, 11313, 12213, 14134, 31413, 44344, 23223, 12221, 14143, 21441, 23113, 12234, 42443, 42444, 11341, 21324, 23242, 22224, 21331, 42324, 32214, 43224, 22233, 23131, 12124, 21213, 14431, 41314, 11114, 11242, 43243, 12142, 24432, 21112, 14332, 11133}, {21122, 13314, 11141, 14341, 12424, 23432, 22411, 12433, 34324, 24344, 24221, 11423, 14112, 12322, 11431, 13223, 14123, 22444, 23213, 41134, 13232, 32434, 14131, 33333, 12214, 13241, 22333, 13121, 34113, 43334, 22342, 23112, 14411, 11342, 12113, 44113, 12242, 44244, 13143, 31323, 21212, 21341, 24412, 14432, 11234, 21223, 41324, 21231, 42223, 11124, 21111, 42234, 12412}, {22144, 21121, 14212, 12421, 31113, 13322, 24332, 33423, 23312, 11411, 23444, 21142, 14234, 12443, 13213, 24222, 42143, 41124, 34343, 31144, 14122, 12332, 21424, 43314, 43444, 24244, 14133, 21431, 42424, 13112, 11324, 43324, 12223, 11331, 13124, 22341, 41414, 22211, 32324, 24131, 21322, 24311, 14413, 43214, 23421, 23122, 21333, 32344, 33123, 23141, 12134, 24423, 11241, 22123, 14444, 14321, 31223, 41213}, {41344, 13444, 34444, 21132, 24334, 12432, 33424, 23443, 13331, 24213, 24342, 14232, 33434, 23323, 41244, 43424, 13224, 22312, 21422, 23344, 13233, 34224, 24114, 12342, 33334, 33214, 31423, 23234, 21444, 34244, 11334, 24133, 11214, 13134, 41424, 13141, 24411, 31324, 14434, 22242, 13412, 24424, 42344, 22121, 13421, 44144, 21233, 14322, 23414, 21241, 32123, 14333}, {34434, 23434, 34443, 22414, 21134, 41233, 21143, 14231, 23324, 13342, 24224, 22432, 22142, 11314, 22322, 11444, 12344, 43134, 24123, 32444, 22334, 33344, 21313, 14412, 22223, 43344, 23422, 14424, 21211, 23132, 21344, 41313, 34144, 41444, 22244, 24421, 23144, 43244, 12141, 31213, 21232, 42224, 13432, 24314, 24444, 41214}, {24324, 33414, 43143, 43144, 34314, 32143, 32144, 31124, 43414, 22423, 14114, 33314, 14244, 33444, 23334, 33443, 34344, 31224, 22442, 32424, 33324, 21421, 42414, 23343, 12343, 32314, 21443, 32323, 22344, 33224, 42314, 23244, 24144, 31313, 11134, 33234, 31444, 33243, 32224, 33144, 14313, 32234, 14443, 13424, 31344, 24434, 32243, 32244, 22134, 13431, 34424, 14334, 13311}, {31233, 42244, 23433, 21131, 31244, 24333, 12431, 23314, 31123, 11414, 22422, 23322, 12444, 32414, 22434, 14242, 23331, 32423, 24234, 41133, 12334, 11441, 24241, 24113, 22324, 12341, 23224, 13244, 21311, 31424, 31434, 32343, 34143, 22112, 21221, 13413, 14314, 34414, 31343, 21114, 13434, 14331}, {31234, 13443, 41223, 12434, 41234, 14233, 23321, 41243, 34334, 13214, 31134, 22433, 21411, 41123, 23333, 41144, 21434, 32443, 14144, 21312, 24134, 22343, 31433, 23243, 34124, 11343, 33233, 31314, 31443, 12244, 24313, 14422, 33244, 31333, 33143, 21113}, {21124, 32134, 12423, 14344, 13334, 24214, 42134, 23332, 21414, 31143, 22314, 23211, 24112, 21433, 34234, 24121, 23233, 34243, 21321, 22221, 14414, 12243, 34134, 13144, 32124, 33133, 24443, 21244}, {42124, 23313, 24343, 13343, 14243, 11434, 22443, 31414, 41143, 24124, 22214, 32334, 24413, 23134, 32223, 33124, 31334, 23143, 24422, 14324, 22132}, {21314, 22114, 21413, 32133, 21224, 24233, 32233, 13324, 32333, 33134, 13423, 12144, 32433, 14323, 31133, 21343}, {42144, 12324, 23133, 23214, 14224, 24433, 24243, 23124, 21334, 22141, 33343}, {22243, 24323, 24143, 13234, 21234, 14423, 13433}, {24223, 23114, 22124, 22143}]\n"
     ]
    }
   ],
   "source": [
    "print(testcase.allSets)"
   ]
  },
  {
   "cell_type": "code",
   "execution_count": null,
   "metadata": {},
   "outputs": [],
   "source": []
  }
 ],
 "metadata": {
  "kernelspec": {
   "display_name": "Python 3",
   "language": "python",
   "name": "python3"
  },
  "language_info": {
   "codemirror_mode": {
    "name": "ipython",
    "version": 3
   },
   "file_extension": ".py",
   "mimetype": "text/x-python",
   "name": "python",
   "nbconvert_exporter": "python",
   "pygments_lexer": "ipython3",
   "version": "3.7.4"
  }
 },
 "nbformat": 4,
 "nbformat_minor": 2
}
